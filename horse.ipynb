{
  "nbformat": 4,
  "nbformat_minor": 0,
  "metadata": {
    "colab": {
      "name": "horse.ipynb",
      "provenance": [],
      "collapsed_sections": []
    },
    "kernelspec": {
      "name": "python3",
      "display_name": "Python 3"
    }
  },
  "cells": [
    {
      "cell_type": "code",
      "metadata": {
        "id": "Oc5_8uAuHhU_",
        "colab_type": "code",
        "colab": {},
        "cellView": "both"
      },
      "source": [
        "# A machine learning model has been developed to predict if horses will live or die.r.\n",
        "import pandas as pd\n",
        "import numpy as np\n",
        "import sklearn\n",
        "from sklearn.model_selection import train_test_split\n",
        "from sklearn.impute import SimpleImputer\n",
        "from sklearn.ensemble import RandomForestClassifier\n",
        "from sklearn.metrics import confusion_matrix\n",
        "from sklearn.metrics import accuracy_score\n",
        "from sklearn.metrics import average_precision_score\n",
        "from sklearn.metrics import cohen_kappa_score"
      ],
      "execution_count": 0,
      "outputs": []
    },
    {
      "cell_type": "code",
      "metadata": {
        "id": "9mhlHr3BHxIr",
        "colab_type": "code",
        "colab": {}
      },
      "source": [
        "# Lendo a base de teste e de treino.\n",
        "df_train = pd.read_csv('horse.csv')\n",
        "df_test = pd.read_csv('horseTest.csv')"
      ],
      "execution_count": 0,
      "outputs": []
    },
    {
      "cell_type": "code",
      "metadata": {
        "id": "F1pfeq7UT0xn",
        "colab_type": "code",
        "colab": {}
      },
      "source": [
        "# As the model asks as output only live or die, I turned euthanasia into death.\n",
        "outcome_1 = df_train['outcome'].replace(['euthanized'], 'died')\n",
        "df_train['outcome'] = outcome_1\n",
        "outcome_2 = df_test['outcome'].replace(['euthanized'], 'died')\n",
        "df_test['outcome'] = outcome_2"
      ],
      "execution_count": 0,
      "outputs": []
    },
    {
      "cell_type": "code",
      "metadata": {
        "id": "xPILtYgmLATz",
        "colab_type": "code",
        "colab": {}
      },
      "source": [
        "# Doing an exploratory analysis of the data, I found that these attributes have a high number of missings. So I decided to exclude them from the model.\n",
        "df_train = df_train.drop(['abdomo_protein','abdomo_appearance','nasogastric_reflux_ph'],axis=1)\n",
        "df_test = df_test.drop(['abdomo_protein','abdomo_appearance','nasogastric_reflux_ph'],axis=1)"
      ],
      "execution_count": 0,
      "outputs": []
    },
    {
      "cell_type": "code",
      "metadata": {
        "id": "0LUlALNu0yf0",
        "colab_type": "code",
        "colab": {}
      },
      "source": [
        "# Manipulating data.\n",
        "h = list(df_train.columns) "
      ],
      "execution_count": 0,
      "outputs": []
    },
    {
      "cell_type": "code",
      "metadata": {
        "id": "dHX2LTskKToP",
        "colab_type": "code",
        "colab": {}
      },
      "source": [
        "# Matching missing data. The strategy adopted was that of the most frequent value in the column.\n",
        "imp = SimpleImputer(strategy=\"most_frequent\")\n",
        "df_train_imp = imp.fit_transform(df_train)\n",
        "df_test_imp = imp.fit_transform(df_test)"
      ],
      "execution_count": 0,
      "outputs": []
    },
    {
      "cell_type": "code",
      "metadata": {
        "id": "lPEhLmXdNtrW",
        "colab_type": "code",
        "colab": {}
      },
      "source": [
        "# Manipulando dados.\n",
        "df_train_imp = pd.DataFrame(df_train_imp)\n",
        "df_test_imp = pd.DataFrame(df_test_imp)"
      ],
      "execution_count": 0,
      "outputs": []
    },
    {
      "cell_type": "code",
      "metadata": {
        "id": "rQe-N1MgPfyV",
        "colab_type": "code",
        "colab": {}
      },
      "source": [
        "# Manipulando dados.\n",
        "df_test_imp.columns = h\n",
        "df_train_imp.columns = h"
      ],
      "execution_count": 0,
      "outputs": []
    },
    {
      "cell_type": "code",
      "metadata": {
        "id": "Pf1amjRlbDfk",
        "colab_type": "code",
        "colab": {}
      },
      "source": [
        "# Separating the label attribute in the training and test base.\n",
        "X_df_imp_train = df_train_imp.drop('outcome',axis=1)\n",
        "y_df_imp_train = df_train_imp['outcome']\n",
        "X_df_imp_test = df_test_imp.drop('outcome',axis=1)\n",
        "y_df_imp_test = df_test_imp['outcome']"
      ],
      "execution_count": 0,
      "outputs": []
    },
    {
      "cell_type": "code",
      "metadata": {
        "id": "XNB2IvHRGcp6",
        "colab_type": "code",
        "colab": {}
      },
      "source": [
        "# Turning the categorical label into numeric.\n",
        "y_df_imp_train = pd.get_dummies(y_df_imp_train)\n",
        "y_df_imp_train = y_df_imp_train.drop('lived',axis = 1)\n",
        "y_df_imp_test = pd.get_dummies(y_df_imp_test)\n",
        "y_df_imp_test = y_df_imp_test.drop('lived',axis = 1)"
      ],
      "execution_count": 0,
      "outputs": []
    },
    {
      "cell_type": "code",
      "metadata": {
        "id": "4_-9g19-TJht",
        "colab_type": "code",
        "colab": {}
      },
      "source": [
        "# Turning categorical attributes into numeric.\n",
        "X_df_imp_train_dummies = pd.get_dummies(data=X_df_imp_train, columns=['surgical_lesion','surgery', 'age','temp_of_extremities','peripheral_pulse','mucous_membrane','capillary_refill_time','pain','peristalsis','abdominal_distention','nasogastric_tube','nasogastric_reflux','rectal_exam_feces','abdomen','cp_data'])\n",
        "X_df_imp_test_dummies = pd.get_dummies(data=X_df_imp_test, columns=['surgical_lesion','surgery', 'age','temp_of_extremities','peripheral_pulse','mucous_membrane','capillary_refill_time','pain','peristalsis','abdominal_distention','nasogastric_tube','nasogastric_reflux','rectal_exam_feces','abdomen','cp_data'])"
      ],
      "execution_count": 0,
      "outputs": []
    },
    {
      "cell_type": "code",
      "metadata": {
        "id": "wbw1zw3LZKrr",
        "colab_type": "code",
        "outputId": "b0a4e30c-5d5c-43a9-badb-151684b52e36",
        "colab": {
          "base_uri": "https://localhost:8080/",
          "height": 70
        }
      },
      "source": [
        "# Training the machine learning algorithm.\n",
        "clf = RandomForestClassifier(max_depth=10, random_state=0,n_estimators=100)\n",
        "clf.fit(X_df_imp_train_dummies,y_df_imp_train);"
      ],
      "execution_count": 0,
      "outputs": [
        {
          "output_type": "stream",
          "text": [
            "/usr/local/lib/python3.6/dist-packages/ipykernel_launcher.py:2: DataConversionWarning: A column-vector y was passed when a 1d array was expected. Please change the shape of y to (n_samples,), for example using ravel().\n",
            "  \n"
          ],
          "name": "stderr"
        }
      ]
    },
    {
      "cell_type": "code",
      "metadata": {
        "id": "NNOjhWs5kWsu",
        "colab_type": "code",
        "colab": {}
      },
      "source": [
        "y_pred = clf.predict(X_df_imp_test_dummies)"
      ],
      "execution_count": 0,
      "outputs": []
    },
    {
      "cell_type": "code",
      "metadata": {
        "id": "5J--MoR8v8ML",
        "colab_type": "code",
        "outputId": "0a653418-9f3b-451f-d7ed-8e33234ecea0",
        "colab": {
          "base_uri": "https://localhost:8080/",
          "height": 50
        }
      },
      "source": [
        "confusion_matrix(y_df_imp_test,y_pred)"
      ],
      "execution_count": 0,
      "outputs": [
        {
          "output_type": "execute_result",
          "data": {
            "text/plain": [
              "array([[52,  1],\n",
              "       [ 0, 36]])"
            ]
          },
          "metadata": {
            "tags": []
          },
          "execution_count": 45
        }
      ]
    },
    {
      "cell_type": "code",
      "metadata": {
        "id": "Pf8OXZL5v8UT",
        "colab_type": "code",
        "outputId": "158f2200-005d-4195-9a1b-bb933e6eed78",
        "colab": {
          "base_uri": "https://localhost:8080/",
          "height": 34
        }
      },
      "source": [
        "accuracy_score(y_df_imp_test,y_pred)"
      ],
      "execution_count": 0,
      "outputs": [
        {
          "output_type": "execute_result",
          "data": {
            "text/plain": [
              "0.9887640449438202"
            ]
          },
          "metadata": {
            "tags": []
          },
          "execution_count": 46
        }
      ]
    },
    {
      "cell_type": "code",
      "metadata": {
        "id": "fvFNhuuhv8Xa",
        "colab_type": "code",
        "outputId": "61be9fce-cfdf-4b81-f3d1-a56b95d332e3",
        "colab": {
          "base_uri": "https://localhost:8080/",
          "height": 34
        }
      },
      "source": [
        "cohen_kappa_score(y_df_imp_test,y_pred)"
      ],
      "execution_count": 0,
      "outputs": [
        {
          "output_type": "execute_result",
          "data": {
            "text/plain": [
              "0.9767805896164884"
            ]
          },
          "metadata": {
            "tags": []
          },
          "execution_count": 47
        }
      ]
    },
    {
      "cell_type": "code",
      "metadata": {
        "id": "cyPN-fi-ZhXd",
        "colab_type": "code",
        "colab": {}
      },
      "source": [
        ""
      ],
      "execution_count": 0,
      "outputs": []
    }
  ]
}
